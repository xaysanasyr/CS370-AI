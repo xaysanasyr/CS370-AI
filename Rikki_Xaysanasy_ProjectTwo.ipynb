{
 "cells": [
  {
   "cell_type": "markdown",
   "metadata": {},
   "source": [
    "# Treasure Hunt Game Notebook\n",
    "\n",
    "## Read and Review Your Starter Code\n",
    "The theme of this project is a popular treasure hunt game in which the player needs to find the treasure before the pirate does. While you will not be developing the entire game, you will write the part of the game that represents the intelligent agent, which is a pirate in this case. The pirate will try to find the optimal path to the treasure using deep Q-learning. \n",
    "\n",
    "You have been provided with two Python classes and this notebook to help you with this assignment. The first class, TreasureMaze.py, represents the environment, which includes a maze object defined as a matrix. The second class, GameExperience.py, stores the episodes – that is, all the states that come in between the initial state and the terminal state. This is later used by the agent for learning by experience, called \"exploration\". This notebook shows how to play a game. Your task is to complete the deep Q-learning implementation for which a skeleton implementation has been provided. The code blocks you will need to complete has #TODO as a header.\n",
    "\n",
    "First, read and review the next few code and instruction blocks to understand the code that you have been given."
   ]
  },
  {
   "cell_type": "code",
   "execution_count": 23,
   "metadata": {},
   "outputs": [],
   "source": [
    "from __future__ import print_function\n",
    "import os, sys, time, datetime, json, random\n",
    "import numpy as np\n",
    "from keras.models import Sequential\n",
    "from keras.layers.core import Dense, Activation\n",
    "from keras.optimizers import SGD , Adam, RMSprop\n",
    "from keras.layers.advanced_activations import PReLU\n",
    "import matplotlib.pyplot as plt\n",
    "from TreasureMaze import TreasureMaze\n",
    "from GameExperience import GameExperience\n",
    "%matplotlib inline"
   ]
  },
  {
   "cell_type": "markdown",
   "metadata": {},
   "source": [
    "The following code block contains an 8x8 matrix that will be used as a maze object:"
   ]
  },
  {
   "cell_type": "code",
   "execution_count": 24,
   "metadata": {},
   "outputs": [],
   "source": [
    "maze = np.array([\n",
    "    [ 1.,  0.,  1.,  1.,  1.,  1.,  1.,  1.],\n",
    "    [ 1.,  0.,  1.,  1.,  1.,  0.,  1.,  1.],\n",
    "    [ 1.,  1.,  1.,  1.,  0.,  1.,  0.,  1.],\n",
    "    [ 1.,  1.,  1.,  0.,  1.,  1.,  1.,  1.],\n",
    "    [ 1.,  1.,  0.,  1.,  1.,  1.,  1.,  1.],\n",
    "    [ 1.,  1.,  1.,  0.,  1.,  0.,  0.,  0.],\n",
    "    [ 1.,  1.,  1.,  0.,  1.,  1.,  1.,  1.],\n",
    "    [ 1.,  1.,  1.,  1.,  0.,  1.,  1.,  1.]\n",
    "])"
   ]
  },
  {
   "cell_type": "markdown",
   "metadata": {},
   "source": [
    "This helper function allows a visual representation of the maze object:"
   ]
  },
  {
   "cell_type": "code",
   "execution_count": 25,
   "metadata": {},
   "outputs": [],
   "source": [
    "def show(qmaze):\n",
    "    plt.grid('on')\n",
    "    nrows, ncols = qmaze.maze.shape\n",
    "    ax = plt.gca()\n",
    "    ax.set_xticks(np.arange(0.5, nrows, 1))\n",
    "    ax.set_yticks(np.arange(0.5, ncols, 1))\n",
    "    ax.set_xticklabels([])\n",
    "    ax.set_yticklabels([])\n",
    "    canvas = np.copy(qmaze.maze)\n",
    "    for row,col in qmaze.visited:\n",
    "        canvas[row,col] = 0.6\n",
    "    pirate_row, pirate_col, _ = qmaze.state\n",
    "    canvas[pirate_row, pirate_col] = 0.3   # pirate cell\n",
    "    canvas[nrows-1, ncols-1] = 0.9 # treasure cell\n",
    "    img = plt.imshow(canvas, interpolation='none', cmap='gray')\n",
    "    return img"
   ]
  },
  {
   "cell_type": "markdown",
   "metadata": {},
   "source": [
    "The pirate agent can move in four directions: left, right, up, and down. \n",
    "\n",
    "While the agent primarily learns by experience through exploitation, often, the agent can choose to explore the environment to find previously undiscovered paths. This is called \"exploration\" and is defined by epsilon. This value is typically a lower value such as 0.1, which means for every ten attempts, the agent will attempt to learn by experience nine times and will randomly explore a new path one time. You are encouraged to try various values for the exploration factor and see how the algorithm performs."
   ]
  },
  {
   "cell_type": "code",
   "execution_count": 26,
   "metadata": {},
   "outputs": [],
   "source": [
    "LEFT = 0\n",
    "UP = 1\n",
    "RIGHT = 2\n",
    "DOWN = 3\n",
    "\n",
    "\n",
    "# Exploration factor\n",
    "epsilon = 0.1\n",
    "\n",
    "# Actions dictionary\n",
    "actions_dict = {\n",
    "    LEFT: 'left',\n",
    "    UP: 'up',\n",
    "    RIGHT: 'right',\n",
    "    DOWN: 'down',\n",
    "}\n",
    "\n",
    "num_actions = len(actions_dict)\n"
   ]
  },
  {
   "cell_type": "markdown",
   "metadata": {},
   "source": [
    "The sample code block and output below show creating a maze object and performing one action (DOWN), which returns the reward. The resulting updated environment is visualized."
   ]
  },
  {
   "cell_type": "code",
   "execution_count": 27,
   "metadata": {},
   "outputs": [
    {
     "name": "stdout",
     "output_type": "stream",
     "text": [
      "reward= -0.04\n"
     ]
    },
    {
     "data": {
      "text/plain": [
       "<matplotlib.image.AxesImage at 0x166b1d7e488>"
      ]
     },
     "execution_count": 27,
     "metadata": {},
     "output_type": "execute_result"
    },
    {
     "data": {
      "image/png": "[encoded data removed]",
      "text/plain": [
       "<Figure size 432x288 with 1 Axes>"
      ]
     },
     "metadata": {
      "needs_background": "light"
     },
     "output_type": "display_data"
    }
   ],
   "source": [
    "qmaze = TreasureMaze(maze)\n",
    "canvas, reward, game_over = qmaze.act(DOWN)\n",
    "print(\"reward=\", reward)\n",
    "show(qmaze)"
   ]
  },
  {
   "cell_type": "markdown",
   "metadata": {},
   "source": [
    "This function simulates a full game based on the provided trained model. The other parameters include the TreasureMaze object and the starting position of the pirate."
   ]
  },
  {
   "cell_type": "code",
   "execution_count": 28,
   "metadata": {},
   "outputs": [],
   "source": [
    "def play_game(model, qmaze, pirate_cell):\n",
    "    qmaze.reset(pirate_cell)\n",
    "    envstate = qmaze.observe()\n",
    "    while True:\n",
    "        prev_envstate = envstate\n",
    "        # get next action\n",
    "        q = model.predict(prev_envstate)\n",
    "        action = np.argmax(q[0])\n",
    "\n",
    "        # apply action, get rewards and new state\n",
    "        envstate, reward, game_status = qmaze.act(action)\n",
    "        if game_status == 'win':\n",
    "            return True\n",
    "        elif game_status == 'lose':\n",
    "            return False"
   ]
  },
  {
   "cell_type": "markdown",
   "metadata": {},
   "source": [
    "This function helps you to determine whether the pirate can win any game at all. If your maze is not well designed, the pirate may not win any game at all. In this case, your training would not yield any result. The provided maze in this notebook ensures that there is a path to win and you can run this method to check."
   ]
  },
  {
   "cell_type": "code",
   "execution_count": 29,
   "metadata": {},
   "outputs": [],
   "source": [
    "def completion_check(model, qmaze):\n",
    "    for cell in qmaze.free_cells:\n",
    "        if not qmaze.valid_actions(cell):\n",
    "            return False\n",
    "        if not play_game(model, qmaze, cell):\n",
    "            return False\n",
    "    return True"
   ]
  },
  {
   "cell_type": "markdown",
   "metadata": {},
   "source": [
    "The code you have been given in this block will build the neural network model. Review the code and note the number of layers, as well as the activation, optimizer, and loss functions that are used to train the model."
   ]
  },
  {
   "cell_type": "code",
   "execution_count": 30,
   "metadata": {},
   "outputs": [],
   "source": [
    "def build_model(maze):\n",
    "    model = Sequential()\n",
    "    model.add(Dense(maze.size, input_shape=(maze.size,)))\n",
    "    model.add(PReLU())\n",
    "    model.add(Dense(maze.size))\n",
    "    model.add(PReLU())\n",
    "    model.add(Dense(num_actions))\n",
    "    model.compile(optimizer='adam', loss='mse')\n",
    "    return model"
   ]
  },
  {
   "cell_type": "markdown",
   "metadata": {},
   "source": [
    "# #TODO: Complete the Q-Training Algorithm Code Block\n",
    "\n",
    "This is your deep Q-learning implementation. The goal of your deep Q-learning implementation is to find the best possible navigation sequence that results in reaching the treasure cell while maximizing the reward. In your implementation, you need to determine the optimal number of epochs to achieve a 100% win rate.\n",
    "\n",
    "You will need to complete the section starting with #pseudocode. The pseudocode has been included for you."
   ]
  },
  {
   "cell_type": "code",
   "execution_count": 31,
   "metadata": {},
   "outputs": [],
   "source": [
    "def qtrain(model, maze, **opt):\n",
    "\n",
    "    # exploration factor\n",
    "    global epsilon \n",
    "\n",
    "    # number of epochs\n",
    "    n_epoch = opt.get('n_epoch', 15000)\n",
    "\n",
    "    # maximum memory to store episodes\n",
    "    max_memory = opt.get('max_memory', 1000)\n",
    "\n",
    "    # maximum data size for training\n",
    "    data_size = opt.get('data_size', 50)\n",
    "\n",
    "    # start time\n",
    "    start_time = datetime.datetime.now()\n",
    "\n",
    "    # Construct environment/game from numpy array: maze (see above)\n",
    "    qmaze = TreasureMaze(maze)\n",
    "\n",
    "    # Initialize experience replay object\n",
    "    experience = GameExperience(model, max_memory=max_memory)\n",
    "    \n",
    "    win_history = []   # history of win/lose game\n",
    "    hsize = qmaze.maze.size // 2   # history window size\n",
    "    win_rate = 0.0\n",
    "    \n",
    "    use_free_cells = True  \n",
    "\n",
    "    for epoch in range(n_epoch):\n",
    "        # Agent_cell = randomly select a free cell\n",
    "        if use_free_cells:\n",
    "            agent_cell = random.choice(qmaze.free_cells)\n",
    "        else:\n",
    "            agent_cell = np.random.randint(0, high=7, size=2)\n",
    "        \n",
    "        # Reset the maze with the agent set to the above position\n",
    "        qmaze.reset(agent_cell)\n",
    "        \n",
    "        # envstate = Environment.current_state\n",
    "        env_state = qmaze.observe()\n",
    "        loss = 0\n",
    "        episode_count = 0\n",
    "        \n",
    "        # While the game is not over\n",
    "        while qmaze.game_status() == 'not_over':\n",
    "            prev_env_state = env_state\n",
    "            valid_actions = qmaze.valid_actions()\n",
    "            \n",
    "            # Decide whether to explore or exploit\n",
    "            if np.random.rand() < epsilon:\n",
    "                action = random.choice(valid_actions)  # Choose a random valid action\n",
    "            else:\n",
    "                action = np.argmax(experience.predict(env_state))  #Choose the best action according to the model\n",
    "            \n",
    "            # Perform the action and get the new state, reward, and game status\n",
    "            env_state, reward, game_status = qmaze.act(action)\n",
    "            \n",
    "            episode_count += 1\n",
    "            \n",
    "            # Record the experience\n",
    "            episode = [prev_env_state, action, reward, env_state, game_status]\n",
    "            \n",
    "            # Store the episode in the experience replay\n",
    "            experience.remember(episode)\n",
    "            \n",
    "            # Train the model with the experiences\n",
    "            inputs, targets = experience.get_data(data_size=data_size)\n",
    "            model.fit(inputs, targets, epochs=8, batch_size=24, verbose=0)\n",
    "            \n",
    "            # Evaluate the model's performance (loss)\n",
    "            loss = model.evaluate(inputs, targets, verbose=0)\n",
    "            \n",
    "            if game_status == \"win\":\n",
    "                win_history.append(1)\n",
    "                win_rate = sum(win_history) / len(win_history)\n",
    "                break\n",
    "            elif game_status == \"lose\":\n",
    "                win_history.append(0)\n",
    "                win_rate = sum(win_history) / len(win_history)\n",
    "                break\n",
    "\n",
    "        # Print the epoch, loss, episodes, win count, and win rate for each epoch\n",
    "        dt = datetime.datetime.now() - start_time\n",
    "        t = format_time(dt.total_seconds())\n",
    "        template = \"Epoch: {:03d}/{:d} | Loss: {:.4f} | Episodes: {:d} | Win count: {:d} | Win rate: {:.3f} | time: {}\"\n",
    "        print(template.format(epoch, n_epoch-1, loss, episode_count, sum(win_history), win_rate, t))\n",
    "\n",
    "        # Adjust epsilon and check if training can be stopped early\n",
    "        if win_rate > 0.9:\n",
    "            epsilon = 0.05  # Reduce exploration if the agent is performing well\n",
    "            if sum(win_history[-hsize:]) == hsize and completion_check(model, qmaze):\n",
    "                print(\"Reached 100%% win rate at epoch: %d\" % (epoch,))\n",
    "                break\n",
    "\n",
    "\n",
    "        \n",
    "          \n",
    "    # Determine the total time for training\n",
    "    dt = datetime.datetime.now() - start_time\n",
    "    seconds = dt.total_seconds()\n",
    "    t = format_time(seconds)\n",
    "\n",
    "    print(\"n_epoch: %d, max_mem: %d, data: %d, time: %s\" % (epoch, max_memory, data_size, t))\n",
    "    return seconds\n",
    "\n",
    "# This is a small utility for printing readable time strings:\n",
    "def format_time(seconds):\n",
    "    if seconds < 400:\n",
    "        s = float(seconds)\n",
    "        return \"%.1f seconds\" % (s,)\n",
    "    elif seconds < 4000:\n",
    "        m = seconds / 60.0\n",
    "        return \"%.2f minutes\" % (m,)\n",
    "    else:\n",
    "        h = seconds / 3600.0\n",
    "        return \"%.2f hours\" % (h,)\n",
    "\n"
   ]
  },
  {
   "cell_type": "markdown",
   "metadata": {},
   "source": [
    "## Test Your Model\n",
    "\n",
    "Now we will start testing the deep Q-learning implementation. To begin, select **Cell**, then **Run All** from the menu bar. This will run your notebook. As it runs, you should see output begin to appear beneath the next few cells. The code below creates an instance of TreasureMaze."
   ]
  },
  {
   "cell_type": "code",
   "execution_count": 32,
   "metadata": {},
   "outputs": [
    {
     "data": {
      "text/plain": [
       "<matplotlib.image.AxesImage at 0x166b1e1da48>"
      ]
     },
     "execution_count": 32,
     "metadata": {},
     "output_type": "execute_result"
    },
    {
     "data": {
      "image/png": "[encoded data removed]",
      "text/plain": [
       "<Figure size 432x288 with 1 Axes>"
      ]
     },
     "metadata": {
      "needs_background": "light"
     },
     "output_type": "display_data"
    }
   ],
   "source": [
    "qmaze = TreasureMaze(maze)\n",
    "show(qmaze)"
   ]
  },
  {
   "cell_type": "markdown",
   "metadata": {},
   "source": [
    "In the next code block, you will build your model and train it using deep Q-learning. Note: This step takes several minutes to fully run."
   ]
  },
  {
   "cell_type": "code",
   "execution_count": 33,
   "metadata": {
    "scrolled": true
   },
   "outputs": [
    {
     "name": "stdout",
     "output_type": "stream",
     "text": [
      "Epoch: 000/14999 | Loss: 0.0006 | Episodes: 134 | Win count: 0 | Win rate: 0.000 | time: 17.8 seconds\n",
      "Epoch: 001/14999 | Loss: 0.0005 | Episodes: 4 | Win count: 1 | Win rate: 0.500 | time: 18.4 seconds\n",
      "Epoch: 002/14999 | Loss: 0.0016 | Episodes: 24 | Win count: 2 | Win rate: 0.667 | time: 22.4 seconds\n",
      "Epoch: 003/14999 | Loss: 0.0001 | Episodes: 132 | Win count: 2 | Win rate: 0.500 | time: 43.6 seconds\n",
      "Epoch: 004/14999 | Loss: 0.0031 | Episodes: 141 | Win count: 2 | Win rate: 0.400 | time: 67.2 seconds\n",
      "Epoch: 005/14999 | Loss: 0.0003 | Episodes: 134 | Win count: 2 | Win rate: 0.333 | time: 84.7 seconds\n",
      "Epoch: 006/14999 | Loss: 0.0004 | Episodes: 139 | Win count: 2 | Win rate: 0.286 | time: 103.2 seconds\n",
      "Epoch: 007/14999 | Loss: 0.0009 | Episodes: 134 | Win count: 2 | Win rate: 0.250 | time: 120.9 seconds\n",
      "Epoch: 008/14999 | Loss: 0.0005 | Episodes: 143 | Win count: 2 | Win rate: 0.222 | time: 138.6 seconds\n",
      "Epoch: 009/14999 | Loss: 0.0005 | Episodes: 143 | Win count: 2 | Win rate: 0.200 | time: 156.3 seconds\n",
      "Epoch: 010/14999 | Loss: 0.0010 | Episodes: 138 | Win count: 2 | Win rate: 0.182 | time: 172.6 seconds\n",
      "Epoch: 011/14999 | Loss: 0.0003 | Episodes: 142 | Win count: 2 | Win rate: 0.167 | time: 189.6 seconds\n",
      "Epoch: 012/14999 | Loss: 0.0013 | Episodes: 140 | Win count: 2 | Win rate: 0.154 | time: 206.3 seconds\n",
      "Epoch: 013/14999 | Loss: 0.0005 | Episodes: 137 | Win count: 2 | Win rate: 0.143 | time: 222.5 seconds\n",
      "Epoch: 014/14999 | Loss: 0.0007 | Episodes: 85 | Win count: 3 | Win rate: 0.200 | time: 232.3 seconds\n",
      "Epoch: 015/14999 | Loss: 0.0010 | Episodes: 65 | Win count: 4 | Win rate: 0.250 | time: 240.5 seconds\n",
      "Epoch: 016/14999 | Loss: 0.0006 | Episodes: 131 | Win count: 4 | Win rate: 0.235 | time: 255.9 seconds\n",
      "Epoch: 017/14999 | Loss: 0.0016 | Episodes: 44 | Win count: 5 | Win rate: 0.278 | time: 261.0 seconds\n",
      "Epoch: 018/14999 | Loss: 0.0011 | Episodes: 67 | Win count: 6 | Win rate: 0.316 | time: 268.6 seconds\n",
      "Epoch: 019/14999 | Loss: 0.0019 | Episodes: 1 | Win count: 7 | Win rate: 0.350 | time: 268.7 seconds\n",
      "Epoch: 020/14999 | Loss: 0.0005 | Episodes: 134 | Win count: 7 | Win rate: 0.333 | time: 283.9 seconds\n",
      "Epoch: 021/14999 | Loss: 0.0008 | Episodes: 143 | Win count: 7 | Win rate: 0.318 | time: 300.6 seconds\n",
      "Epoch: 022/14999 | Loss: 0.0006 | Episodes: 2 | Win count: 8 | Win rate: 0.348 | time: 300.8 seconds\n",
      "Epoch: 023/14999 | Loss: 0.0005 | Episodes: 5 | Win count: 9 | Win rate: 0.375 | time: 301.5 seconds\n",
      "Epoch: 024/14999 | Loss: 0.0006 | Episodes: 136 | Win count: 9 | Win rate: 0.360 | time: 319.4 seconds\n",
      "Epoch: 025/14999 | Loss: 0.0006 | Episodes: 10 | Win count: 10 | Win rate: 0.385 | time: 320.7 seconds\n",
      "Epoch: 026/14999 | Loss: 0.0004 | Episodes: 136 | Win count: 10 | Win rate: 0.370 | time: 339.2 seconds\n",
      "Epoch: 027/14999 | Loss: 0.0058 | Episodes: 9 | Win count: 11 | Win rate: 0.393 | time: 340.4 seconds\n",
      "Epoch: 028/14999 | Loss: 0.0007 | Episodes: 142 | Win count: 11 | Win rate: 0.379 | time: 358.3 seconds\n",
      "Epoch: 029/14999 | Loss: 0.0009 | Episodes: 137 | Win count: 11 | Win rate: 0.367 | time: 374.6 seconds\n",
      "Epoch: 030/14999 | Loss: 0.0002 | Episodes: 137 | Win count: 11 | Win rate: 0.355 | time: 391.0 seconds\n",
      "Epoch: 031/14999 | Loss: 0.0005 | Episodes: 143 | Win count: 11 | Win rate: 0.344 | time: 6.80 minutes\n",
      "Epoch: 032/14999 | Loss: 0.0008 | Episodes: 144 | Win count: 11 | Win rate: 0.333 | time: 7.07 minutes\n",
      "Epoch: 033/14999 | Loss: 0.0008 | Episodes: 1 | Win count: 12 | Win rate: 0.353 | time: 7.08 minutes\n",
      "Epoch: 034/14999 | Loss: 0.0047 | Episodes: 92 | Win count: 13 | Win rate: 0.371 | time: 7.26 minutes\n",
      "Epoch: 035/14999 | Loss: 0.0011 | Episodes: 147 | Win count: 13 | Win rate: 0.361 | time: 7.55 minutes\n",
      "Epoch: 036/14999 | Loss: 0.0006 | Episodes: 1 | Win count: 14 | Win rate: 0.378 | time: 7.55 minutes\n",
      "Epoch: 037/14999 | Loss: 0.0019 | Episodes: 102 | Win count: 15 | Win rate: 0.395 | time: 7.76 minutes\n",
      "Epoch: 038/14999 | Loss: 0.0012 | Episodes: 2 | Win count: 16 | Win rate: 0.410 | time: 7.76 minutes\n",
      "Epoch: 039/14999 | Loss: 0.0016 | Episodes: 9 | Win count: 17 | Win rate: 0.425 | time: 7.78 minutes\n",
      "Epoch: 040/14999 | Loss: 0.0008 | Episodes: 45 | Win count: 18 | Win rate: 0.439 | time: 7.87 minutes\n",
      "Epoch: 041/14999 | Loss: 0.0005 | Episodes: 45 | Win count: 19 | Win rate: 0.452 | time: 7.96 minutes\n",
      "Epoch: 042/14999 | Loss: 0.0012 | Episodes: 35 | Win count: 20 | Win rate: 0.465 | time: 8.03 minutes\n",
      "Epoch: 043/14999 | Loss: 0.0005 | Episodes: 138 | Win count: 20 | Win rate: 0.455 | time: 8.29 minutes\n",
      "Epoch: 044/14999 | Loss: 0.0007 | Episodes: 2 | Win count: 21 | Win rate: 0.467 | time: 8.29 minutes\n",
      "Epoch: 045/14999 | Loss: 0.0006 | Episodes: 143 | Win count: 21 | Win rate: 0.457 | time: 8.57 minutes\n",
      "Epoch: 046/14999 | Loss: 0.0010 | Episodes: 144 | Win count: 21 | Win rate: 0.447 | time: 8.85 minutes\n",
      "Epoch: 047/14999 | Loss: 0.0007 | Episodes: 45 | Win count: 22 | Win rate: 0.458 | time: 8.94 minutes\n",
      "Epoch: 048/14999 | Loss: 0.0006 | Episodes: 45 | Win count: 23 | Win rate: 0.469 | time: 9.02 minutes\n",
      "Epoch: 049/14999 | Loss: 0.0006 | Episodes: 29 | Win count: 24 | Win rate: 0.480 | time: 9.09 minutes\n",
      "Epoch: 050/14999 | Loss: 0.0005 | Episodes: 9 | Win count: 25 | Win rate: 0.490 | time: 9.10 minutes\n",
      "Epoch: 051/14999 | Loss: 0.0011 | Episodes: 5 | Win count: 26 | Win rate: 0.500 | time: 9.11 minutes\n",
      "Epoch: 052/14999 | Loss: 0.0011 | Episodes: 101 | Win count: 27 | Win rate: 0.509 | time: 9.34 minutes\n",
      "Epoch: 053/14999 | Loss: 0.0009 | Episodes: 2 | Win count: 28 | Win rate: 0.519 | time: 9.34 minutes\n",
      "Epoch: 054/14999 | Loss: 0.0007 | Episodes: 8 | Win count: 29 | Win rate: 0.527 | time: 9.36 minutes\n",
      "Epoch: 055/14999 | Loss: 0.0007 | Episodes: 2 | Win count: 30 | Win rate: 0.536 | time: 9.36 minutes\n",
      "Epoch: 056/14999 | Loss: 0.0004 | Episodes: 17 | Win count: 31 | Win rate: 0.544 | time: 9.40 minutes\n",
      "Epoch: 057/14999 | Loss: 0.0006 | Episodes: 20 | Win count: 32 | Win rate: 0.552 | time: 9.45 minutes\n",
      "Epoch: 058/14999 | Loss: 0.0007 | Episodes: 4 | Win count: 33 | Win rate: 0.559 | time: 9.46 minutes\n",
      "Epoch: 059/14999 | Loss: 0.0011 | Episodes: 48 | Win count: 34 | Win rate: 0.567 | time: 9.61 minutes\n",
      "Epoch: 060/14999 | Loss: 0.0010 | Episodes: 15 | Win count: 35 | Win rate: 0.574 | time: 9.65 minutes\n",
      "Epoch: 061/14999 | Loss: 0.0007 | Episodes: 12 | Win count: 36 | Win rate: 0.581 | time: 9.69 minutes\n",
      "Epoch: 062/14999 | Loss: 0.0009 | Episodes: 2 | Win count: 37 | Win rate: 0.587 | time: 9.70 minutes\n",
      "Epoch: 063/14999 | Loss: 0.0009 | Episodes: 9 | Win count: 38 | Win rate: 0.594 | time: 9.73 minutes\n",
      "Epoch: 064/14999 | Loss: 0.0016 | Episodes: 7 | Win count: 39 | Win rate: 0.600 | time: 9.75 minutes\n",
      "Epoch: 065/14999 | Loss: 0.0019 | Episodes: 15 | Win count: 40 | Win rate: 0.606 | time: 9.79 minutes\n",
      "Epoch: 066/14999 | Loss: 0.0010 | Episodes: 42 | Win count: 41 | Win rate: 0.612 | time: 9.91 minutes\n",
      "Epoch: 067/14999 | Loss: 0.0011 | Episodes: 90 | Win count: 42 | Win rate: 0.618 | time: 10.12 minutes\n",
      "Epoch: 068/14999 | Loss: 0.0005 | Episodes: 20 | Win count: 43 | Win rate: 0.623 | time: 10.18 minutes\n",
      "Epoch: 069/14999 | Loss: 0.0014 | Episodes: 20 | Win count: 44 | Win rate: 0.629 | time: 10.23 minutes\n",
      "Epoch: 070/14999 | Loss: 0.0009 | Episodes: 40 | Win count: 45 | Win rate: 0.634 | time: 10.34 minutes\n",
      "Epoch: 071/14999 | Loss: 0.0006 | Episodes: 11 | Win count: 46 | Win rate: 0.639 | time: 10.37 minutes\n",
      "Epoch: 072/14999 | Loss: 0.0010 | Episodes: 37 | Win count: 47 | Win rate: 0.644 | time: 10.47 minutes\n",
      "Epoch: 073/14999 | Loss: 0.0012 | Episodes: 28 | Win count: 48 | Win rate: 0.649 | time: 10.55 minutes\n",
      "Epoch: 074/14999 | Loss: 0.0004 | Episodes: 26 | Win count: 49 | Win rate: 0.653 | time: 10.62 minutes\n",
      "Epoch: 075/14999 | Loss: 0.0008 | Episodes: 10 | Win count: 50 | Win rate: 0.658 | time: 10.64 minutes\n",
      "Epoch: 076/14999 | Loss: 0.0007 | Episodes: 11 | Win count: 51 | Win rate: 0.662 | time: 10.67 minutes\n",
      "Epoch: 077/14999 | Loss: 0.0006 | Episodes: 18 | Win count: 52 | Win rate: 0.667 | time: 10.72 minutes\n",
      "Epoch: 078/14999 | Loss: 0.0005 | Episodes: 26 | Win count: 53 | Win rate: 0.671 | time: 10.79 minutes\n",
      "Epoch: 079/14999 | Loss: 0.0008 | Episodes: 10 | Win count: 54 | Win rate: 0.675 | time: 10.81 minutes\n",
      "Epoch: 080/14999 | Loss: 0.0004 | Episodes: 3 | Win count: 55 | Win rate: 0.679 | time: 10.82 minutes\n",
      "Epoch: 081/14999 | Loss: 0.0004 | Episodes: 21 | Win count: 56 | Win rate: 0.683 | time: 10.87 minutes\n",
      "Epoch: 082/14999 | Loss: 0.0006 | Episodes: 7 | Win count: 57 | Win rate: 0.687 | time: 10.88 minutes\n",
      "Epoch: 083/14999 | Loss: 0.0006 | Episodes: 18 | Win count: 58 | Win rate: 0.690 | time: 10.93 minutes\n",
      "Epoch: 084/14999 | Loss: 0.0001 | Episodes: 25 | Win count: 59 | Win rate: 0.694 | time: 10.98 minutes\n",
      "Epoch: 085/14999 | Loss: 0.0007 | Episodes: 4 | Win count: 60 | Win rate: 0.698 | time: 10.99 minutes\n",
      "Epoch: 086/14999 | Loss: 0.0002 | Episodes: 31 | Win count: 61 | Win rate: 0.701 | time: 11.06 minutes\n",
      "Epoch: 087/14999 | Loss: 0.0003 | Episodes: 23 | Win count: 62 | Win rate: 0.705 | time: 11.11 minutes\n",
      "Epoch: 088/14999 | Loss: 0.0008 | Episodes: 24 | Win count: 63 | Win rate: 0.708 | time: 11.17 minutes\n",
      "Epoch: 089/14999 | Loss: 0.0003 | Episodes: 30 | Win count: 64 | Win rate: 0.711 | time: 11.23 minutes\n",
      "Epoch: 090/14999 | Loss: 0.0004 | Episodes: 33 | Win count: 65 | Win rate: 0.714 | time: 11.31 minutes\n",
      "Epoch: 091/14999 | Loss: 0.0006 | Episodes: 26 | Win count: 66 | Win rate: 0.717 | time: 11.37 minutes\n",
      "Epoch: 092/14999 | Loss: 0.0005 | Episodes: 6 | Win count: 67 | Win rate: 0.720 | time: 11.39 minutes\n",
      "Epoch: 093/14999 | Loss: 0.0008 | Episodes: 1 | Win count: 68 | Win rate: 0.723 | time: 11.39 minutes\n",
      "Epoch: 094/14999 | Loss: 0.0006 | Episodes: 11 | Win count: 69 | Win rate: 0.726 | time: 11.42 minutes\n",
      "Epoch: 095/14999 | Loss: 0.0001 | Episodes: 7 | Win count: 70 | Win rate: 0.729 | time: 11.43 minutes\n",
      "Epoch: 096/14999 | Loss: 0.0006 | Episodes: 32 | Win count: 71 | Win rate: 0.732 | time: 11.50 minutes\n",
      "Epoch: 097/14999 | Loss: 0.0012 | Episodes: 23 | Win count: 72 | Win rate: 0.735 | time: 11.54 minutes\n",
      "Epoch: 098/14999 | Loss: 0.0006 | Episodes: 22 | Win count: 73 | Win rate: 0.737 | time: 11.59 minutes\n",
      "Epoch: 099/14999 | Loss: 0.0003 | Episodes: 30 | Win count: 74 | Win rate: 0.740 | time: 11.65 minutes\n",
      "Epoch: 100/14999 | Loss: 0.0002 | Episodes: 23 | Win count: 75 | Win rate: 0.743 | time: 11.70 minutes\n",
      "Epoch: 101/14999 | Loss: 0.0010 | Episodes: 12 | Win count: 76 | Win rate: 0.745 | time: 11.73 minutes\n",
      "Epoch: 102/14999 | Loss: 0.0000 | Episodes: 8 | Win count: 77 | Win rate: 0.748 | time: 11.75 minutes\n",
      "Epoch: 103/14999 | Loss: 0.0009 | Episodes: 23 | Win count: 78 | Win rate: 0.750 | time: 11.80 minutes\n",
      "Epoch: 104/14999 | Loss: 0.0004 | Episodes: 28 | Win count: 79 | Win rate: 0.752 | time: 11.86 minutes\n",
      "Epoch: 105/14999 | Loss: 0.0010 | Episodes: 46 | Win count: 80 | Win rate: 0.755 | time: 11.95 minutes\n",
      "Epoch: 106/14999 | Loss: 0.0003 | Episodes: 13 | Win count: 81 | Win rate: 0.757 | time: 11.97 minutes\n",
      "Epoch: 107/14999 | Loss: 0.0010 | Episodes: 32 | Win count: 82 | Win rate: 0.759 | time: 12.04 minutes\n",
      "Epoch: 108/14999 | Loss: 0.0004 | Episodes: 4 | Win count: 83 | Win rate: 0.761 | time: 12.05 minutes\n",
      "Epoch: 109/14999 | Loss: 0.0003 | Episodes: 32 | Win count: 84 | Win rate: 0.764 | time: 12.11 minutes\n",
      "Epoch: 110/14999 | Loss: 0.0004 | Episodes: 6 | Win count: 85 | Win rate: 0.766 | time: 12.12 minutes\n",
      "Epoch: 111/14999 | Loss: 0.0008 | Episodes: 22 | Win count: 86 | Win rate: 0.768 | time: 12.16 minutes\n",
      "Epoch: 112/14999 | Loss: 0.0007 | Episodes: 12 | Win count: 87 | Win rate: 0.770 | time: 12.19 minutes\n",
      "Epoch: 113/14999 | Loss: 0.0005 | Episodes: 9 | Win count: 88 | Win rate: 0.772 | time: 12.21 minutes\n",
      "Epoch: 114/14999 | Loss: 0.0005 | Episodes: 32 | Win count: 89 | Win rate: 0.774 | time: 12.28 minutes\n",
      "Epoch: 115/14999 | Loss: 0.0002 | Episodes: 8 | Win count: 90 | Win rate: 0.776 | time: 12.30 minutes\n",
      "Epoch: 116/14999 | Loss: 0.0005 | Episodes: 20 | Win count: 91 | Win rate: 0.778 | time: 12.34 minutes\n",
      "Epoch: 117/14999 | Loss: 0.0010 | Episodes: 19 | Win count: 92 | Win rate: 0.780 | time: 12.39 minutes\n",
      "Epoch: 118/14999 | Loss: 0.0004 | Episodes: 28 | Win count: 93 | Win rate: 0.782 | time: 12.45 minutes\n",
      "Epoch: 119/14999 | Loss: 0.0001 | Episodes: 11 | Win count: 94 | Win rate: 0.783 | time: 12.48 minutes\n",
      "Epoch: 120/14999 | Loss: 0.0004 | Episodes: 13 | Win count: 95 | Win rate: 0.785 | time: 12.51 minutes\n",
      "Epoch: 121/14999 | Loss: 0.0005 | Episodes: 28 | Win count: 96 | Win rate: 0.787 | time: 12.58 minutes\n",
      "Epoch: 122/14999 | Loss: 0.0008 | Episodes: 2 | Win count: 97 | Win rate: 0.789 | time: 12.59 minutes\n",
      "Epoch: 123/14999 | Loss: 0.0014 | Episodes: 18 | Win count: 98 | Win rate: 0.790 | time: 12.63 minutes\n",
      "Epoch: 124/14999 | Loss: 0.0003 | Episodes: 28 | Win count: 99 | Win rate: 0.792 | time: 12.69 minutes\n",
      "Epoch: 125/14999 | Loss: 0.0004 | Episodes: 17 | Win count: 100 | Win rate: 0.794 | time: 12.73 minutes\n",
      "Epoch: 126/14999 | Loss: 0.0007 | Episodes: 28 | Win count: 101 | Win rate: 0.795 | time: 12.79 minutes\n",
      "Epoch: 127/14999 | Loss: 0.0006 | Episodes: 23 | Win count: 102 | Win rate: 0.797 | time: 12.84 minutes\n",
      "Epoch: 128/14999 | Loss: 0.0004 | Episodes: 1 | Win count: 103 | Win rate: 0.798 | time: 12.85 minutes\n",
      "Epoch: 129/14999 | Loss: 0.0003 | Episodes: 5 | Win count: 104 | Win rate: 0.800 | time: 12.86 minutes\n",
      "Epoch: 130/14999 | Loss: 0.0006 | Episodes: 17 | Win count: 105 | Win rate: 0.802 | time: 12.89 minutes\n",
      "Epoch: 131/14999 | Loss: 0.0006 | Episodes: 7 | Win count: 106 | Win rate: 0.803 | time: 12.91 minutes\n",
      "Epoch: 132/14999 | Loss: 0.0004 | Episodes: 7 | Win count: 107 | Win rate: 0.805 | time: 12.92 minutes\n",
      "Epoch: 133/14999 | Loss: 0.0006 | Episodes: 17 | Win count: 108 | Win rate: 0.806 | time: 12.96 minutes\n",
      "Epoch: 134/14999 | Loss: 0.0004 | Episodes: 27 | Win count: 109 | Win rate: 0.807 | time: 13.02 minutes\n",
      "Epoch: 135/14999 | Loss: 0.0008 | Episodes: 10 | Win count: 110 | Win rate: 0.809 | time: 13.04 minutes\n",
      "Epoch: 136/14999 | Loss: 0.0002 | Episodes: 19 | Win count: 111 | Win rate: 0.810 | time: 13.08 minutes\n",
      "Epoch: 137/14999 | Loss: 0.0005 | Episodes: 13 | Win count: 112 | Win rate: 0.812 | time: 13.10 minutes\n",
      "Epoch: 138/14999 | Loss: 0.0006 | Episodes: 9 | Win count: 113 | Win rate: 0.813 | time: 13.12 minutes\n",
      "Epoch: 139/14999 | Loss: 0.0001 | Episodes: 33 | Win count: 114 | Win rate: 0.814 | time: 13.19 minutes\n",
      "Epoch: 140/14999 | Loss: 0.0007 | Episodes: 21 | Win count: 115 | Win rate: 0.816 | time: 13.23 minutes\n",
      "Epoch: 141/14999 | Loss: 0.0009 | Episodes: 20 | Win count: 116 | Win rate: 0.817 | time: 13.27 minutes\n",
      "Epoch: 142/14999 | Loss: 0.0008 | Episodes: 26 | Win count: 117 | Win rate: 0.818 | time: 13.32 minutes\n",
      "Epoch: 143/14999 | Loss: 0.0004 | Episodes: 24 | Win count: 118 | Win rate: 0.819 | time: 13.38 minutes\n",
      "Epoch: 144/14999 | Loss: 0.0003 | Episodes: 5 | Win count: 119 | Win rate: 0.821 | time: 13.40 minutes\n",
      "Epoch: 145/14999 | Loss: 0.0003 | Episodes: 29 | Win count: 120 | Win rate: 0.822 | time: 13.46 minutes\n",
      "Epoch: 146/14999 | Loss: 0.0004 | Episodes: 35 | Win count: 121 | Win rate: 0.823 | time: 13.53 minutes\n",
      "Epoch: 147/14999 | Loss: 0.0010 | Episodes: 4 | Win count: 122 | Win rate: 0.824 | time: 13.54 minutes\n",
      "Epoch: 148/14999 | Loss: 0.0014 | Episodes: 23 | Win count: 123 | Win rate: 0.826 | time: 13.59 minutes\n",
      "Epoch: 149/14999 | Loss: 0.0005 | Episodes: 1 | Win count: 124 | Win rate: 0.827 | time: 13.59 minutes\n",
      "Epoch: 150/14999 | Loss: 0.0009 | Episodes: 30 | Win count: 125 | Win rate: 0.828 | time: 13.66 minutes\n",
      "Epoch: 151/14999 | Loss: 0.0003 | Episodes: 18 | Win count: 126 | Win rate: 0.829 | time: 13.69 minutes\n",
      "Epoch: 152/14999 | Loss: 0.0005 | Episodes: 31 | Win count: 127 | Win rate: 0.830 | time: 13.76 minutes\n",
      "Epoch: 153/14999 | Loss: 0.0005 | Episodes: 20 | Win count: 128 | Win rate: 0.831 | time: 13.80 minutes\n",
      "Epoch: 154/14999 | Loss: 0.0010 | Episodes: 35 | Win count: 129 | Win rate: 0.832 | time: 13.87 minutes\n",
      "Epoch: 155/14999 | Loss: 0.0004 | Episodes: 23 | Win count: 130 | Win rate: 0.833 | time: 13.92 minutes\n",
      "Epoch: 156/14999 | Loss: 0.0004 | Episodes: 25 | Win count: 131 | Win rate: 0.834 | time: 13.98 minutes\n",
      "Epoch: 157/14999 | Loss: 0.0001 | Episodes: 51 | Win count: 132 | Win rate: 0.835 | time: 14.10 minutes\n",
      "Epoch: 158/14999 | Loss: 0.0001 | Episodes: 1 | Win count: 133 | Win rate: 0.836 | time: 14.10 minutes\n",
      "Epoch: 159/14999 | Loss: 0.0001 | Episodes: 19 | Win count: 134 | Win rate: 0.838 | time: 14.14 minutes\n",
      "Epoch: 160/14999 | Loss: 0.0006 | Episodes: 8 | Win count: 135 | Win rate: 0.839 | time: 14.16 minutes\n",
      "Epoch: 161/14999 | Loss: 0.0008 | Episodes: 31 | Win count: 136 | Win rate: 0.840 | time: 14.23 minutes\n",
      "Epoch: 162/14999 | Loss: 0.0010 | Episodes: 15 | Win count: 137 | Win rate: 0.840 | time: 14.26 minutes\n",
      "Epoch: 163/14999 | Loss: 0.0001 | Episodes: 12 | Win count: 138 | Win rate: 0.841 | time: 14.28 minutes\n",
      "Epoch: 164/14999 | Loss: 0.0003 | Episodes: 2 | Win count: 139 | Win rate: 0.842 | time: 14.29 minutes\n",
      "Epoch: 165/14999 | Loss: 0.0008 | Episodes: 3 | Win count: 140 | Win rate: 0.843 | time: 14.29 minutes\n",
      "Epoch: 166/14999 | Loss: 0.0005 | Episodes: 1 | Win count: 141 | Win rate: 0.844 | time: 14.30 minutes\n",
      "Epoch: 167/14999 | Loss: 0.0008 | Episodes: 37 | Win count: 142 | Win rate: 0.845 | time: 14.38 minutes\n",
      "Epoch: 168/14999 | Loss: 0.0001 | Episodes: 12 | Win count: 143 | Win rate: 0.846 | time: 14.41 minutes\n",
      "Epoch: 169/14999 | Loss: 0.0003 | Episodes: 4 | Win count: 144 | Win rate: 0.847 | time: 14.42 minutes\n",
      "Epoch: 170/14999 | Loss: 0.0005 | Episodes: 37 | Win count: 145 | Win rate: 0.848 | time: 14.50 minutes\n",
      "Epoch: 171/14999 | Loss: 0.0005 | Episodes: 24 | Win count: 146 | Win rate: 0.849 | time: 14.55 minutes\n",
      "Epoch: 172/14999 | Loss: 0.0007 | Episodes: 13 | Win count: 147 | Win rate: 0.850 | time: 14.58 minutes\n",
      "Epoch: 173/14999 | Loss: 0.0009 | Episodes: 4 | Win count: 148 | Win rate: 0.851 | time: 14.58 minutes\n",
      "Epoch: 174/14999 | Loss: 0.0010 | Episodes: 34 | Win count: 149 | Win rate: 0.851 | time: 14.66 minutes\n",
      "Epoch: 175/14999 | Loss: 0.0009 | Episodes: 9 | Win count: 150 | Win rate: 0.852 | time: 14.68 minutes\n",
      "Epoch: 176/14999 | Loss: 0.0002 | Episodes: 30 | Win count: 151 | Win rate: 0.853 | time: 14.75 minutes\n",
      "Epoch: 177/14999 | Loss: 0.0004 | Episodes: 1 | Win count: 152 | Win rate: 0.854 | time: 14.75 minutes\n",
      "Epoch: 178/14999 | Loss: 0.0006 | Episodes: 40 | Win count: 153 | Win rate: 0.855 | time: 14.86 minutes\n",
      "Epoch: 179/14999 | Loss: 0.0008 | Episodes: 19 | Win count: 154 | Win rate: 0.856 | time: 14.90 minutes\n",
      "Epoch: 180/14999 | Loss: 0.0007 | Episodes: 28 | Win count: 155 | Win rate: 0.856 | time: 14.96 minutes\n",
      "Epoch: 181/14999 | Loss: 0.0004 | Episodes: 32 | Win count: 156 | Win rate: 0.857 | time: 15.04 minutes\n",
      "Epoch: 182/14999 | Loss: 0.0006 | Episodes: 32 | Win count: 157 | Win rate: 0.858 | time: 15.12 minutes\n",
      "Epoch: 183/14999 | Loss: 0.0008 | Episodes: 35 | Win count: 158 | Win rate: 0.859 | time: 15.22 minutes\n",
      "Epoch: 184/14999 | Loss: 0.0007 | Episodes: 36 | Win count: 159 | Win rate: 0.859 | time: 15.34 minutes\n",
      "Epoch: 185/14999 | Loss: 0.0004 | Episodes: 3 | Win count: 160 | Win rate: 0.860 | time: 15.35 minutes\n",
      "Epoch: 186/14999 | Loss: 0.0002 | Episodes: 9 | Win count: 161 | Win rate: 0.861 | time: 15.38 minutes\n",
      "Epoch: 187/14999 | Loss: 0.0004 | Episodes: 10 | Win count: 162 | Win rate: 0.862 | time: 15.41 minutes\n",
      "Epoch: 188/14999 | Loss: 0.0015 | Episodes: 23 | Win count: 163 | Win rate: 0.862 | time: 15.48 minutes\n",
      "Epoch: 189/14999 | Loss: 0.0006 | Episodes: 9 | Win count: 164 | Win rate: 0.863 | time: 15.51 minutes\n",
      "Epoch: 190/14999 | Loss: 0.0009 | Episodes: 28 | Win count: 165 | Win rate: 0.864 | time: 15.59 minutes\n",
      "Epoch: 191/14999 | Loss: 0.0010 | Episodes: 19 | Win count: 166 | Win rate: 0.865 | time: 15.65 minutes\n",
      "Epoch: 192/14999 | Loss: 0.0003 | Episodes: 24 | Win count: 167 | Win rate: 0.865 | time: 15.72 minutes\n",
      "Epoch: 193/14999 | Loss: 0.0003 | Episodes: 11 | Win count: 168 | Win rate: 0.866 | time: 15.75 minutes\n",
      "Epoch: 194/14999 | Loss: 0.0005 | Episodes: 24 | Win count: 169 | Win rate: 0.867 | time: 15.82 minutes\n",
      "Epoch: 195/14999 | Loss: 0.0001 | Episodes: 13 | Win count: 170 | Win rate: 0.867 | time: 15.85 minutes\n",
      "Epoch: 196/14999 | Loss: 0.0002 | Episodes: 26 | Win count: 171 | Win rate: 0.868 | time: 15.94 minutes\n",
      "Epoch: 197/14999 | Loss: 0.0003 | Episodes: 15 | Win count: 172 | Win rate: 0.869 | time: 15.99 minutes\n",
      "Epoch: 198/14999 | Loss: 0.0004 | Episodes: 35 | Win count: 173 | Win rate: 0.869 | time: 16.10 minutes\n",
      "Epoch: 199/14999 | Loss: 0.0003 | Episodes: 8 | Win count: 174 | Win rate: 0.870 | time: 16.12 minutes\n",
      "Epoch: 200/14999 | Loss: 0.0008 | Episodes: 24 | Win count: 175 | Win rate: 0.871 | time: 16.19 minutes\n",
      "Epoch: 201/14999 | Loss: 0.0003 | Episodes: 26 | Win count: 176 | Win rate: 0.871 | time: 16.27 minutes\n",
      "Epoch: 202/14999 | Loss: 0.0007 | Episodes: 25 | Win count: 177 | Win rate: 0.872 | time: 16.34 minutes\n",
      "Epoch: 203/14999 | Loss: 0.0003 | Episodes: 28 | Win count: 178 | Win rate: 0.873 | time: 16.42 minutes\n",
      "Epoch: 204/14999 | Loss: 0.0002 | Episodes: 20 | Win count: 179 | Win rate: 0.873 | time: 16.47 minutes\n",
      "Epoch: 205/14999 | Loss: 0.0003 | Episodes: 5 | Win count: 180 | Win rate: 0.874 | time: 16.48 minutes\n",
      "Epoch: 206/14999 | Loss: 0.0007 | Episodes: 39 | Win count: 181 | Win rate: 0.874 | time: 16.57 minutes\n",
      "Epoch: 207/14999 | Loss: 0.0006 | Episodes: 54 | Win count: 182 | Win rate: 0.875 | time: 16.69 minutes\n",
      "Epoch: 208/14999 | Loss: 0.0004 | Episodes: 9 | Win count: 183 | Win rate: 0.876 | time: 16.71 minutes\n",
      "Epoch: 209/14999 | Loss: 0.0003 | Episodes: 3 | Win count: 184 | Win rate: 0.876 | time: 16.72 minutes\n",
      "Epoch: 210/14999 | Loss: 0.0008 | Episodes: 31 | Win count: 185 | Win rate: 0.877 | time: 16.78 minutes\n",
      "Epoch: 211/14999 | Loss: 0.0007 | Episodes: 16 | Win count: 186 | Win rate: 0.877 | time: 16.82 minutes\n",
      "Epoch: 212/14999 | Loss: 0.0001 | Episodes: 47 | Win count: 187 | Win rate: 0.878 | time: 16.92 minutes\n",
      "Epoch: 213/14999 | Loss: 0.0006 | Episodes: 31 | Win count: 188 | Win rate: 0.879 | time: 16.99 minutes\n",
      "Epoch: 214/14999 | Loss: 0.0005 | Episodes: 29 | Win count: 189 | Win rate: 0.879 | time: 17.05 minutes\n",
      "Epoch: 215/14999 | Loss: 0.0002 | Episodes: 30 | Win count: 190 | Win rate: 0.880 | time: 17.11 minutes\n",
      "Epoch: 216/14999 | Loss: 0.0004 | Episodes: 28 | Win count: 191 | Win rate: 0.880 | time: 17.17 minutes\n",
      "Epoch: 217/14999 | Loss: 0.0000 | Episodes: 55 | Win count: 192 | Win rate: 0.881 | time: 17.28 minutes\n",
      "Epoch: 218/14999 | Loss: 0.0002 | Episodes: 38 | Win count: 193 | Win rate: 0.881 | time: 17.36 minutes\n",
      "Epoch: 219/14999 | Loss: 0.0007 | Episodes: 5 | Win count: 194 | Win rate: 0.882 | time: 17.37 minutes\n",
      "Epoch: 220/14999 | Loss: 0.0006 | Episodes: 40 | Win count: 195 | Win rate: 0.882 | time: 17.45 minutes\n",
      "Epoch: 221/14999 | Loss: 0.0010 | Episodes: 8 | Win count: 196 | Win rate: 0.883 | time: 17.47 minutes\n",
      "Epoch: 222/14999 | Loss: 0.0004 | Episodes: 11 | Win count: 197 | Win rate: 0.883 | time: 17.49 minutes\n",
      "Epoch: 223/14999 | Loss: 0.0005 | Episodes: 9 | Win count: 198 | Win rate: 0.884 | time: 17.51 minutes\n",
      "Epoch: 224/14999 | Loss: 0.0009 | Episodes: 9 | Win count: 199 | Win rate: 0.884 | time: 17.53 minutes\n",
      "Epoch: 225/14999 | Loss: 0.0008 | Episodes: 19 | Win count: 200 | Win rate: 0.885 | time: 17.57 minutes\n",
      "Epoch: 226/14999 | Loss: 0.0005 | Episodes: 29 | Win count: 201 | Win rate: 0.885 | time: 17.62 minutes\n",
      "Epoch: 227/14999 | Loss: 0.0007 | Episodes: 20 | Win count: 202 | Win rate: 0.886 | time: 17.66 minutes\n",
      "Epoch: 228/14999 | Loss: 0.0007 | Episodes: 25 | Win count: 203 | Win rate: 0.886 | time: 17.71 minutes\n",
      "Epoch: 229/14999 | Loss: 0.0009 | Episodes: 25 | Win count: 204 | Win rate: 0.887 | time: 17.76 minutes\n",
      "Epoch: 230/14999 | Loss: 0.0011 | Episodes: 10 | Win count: 205 | Win rate: 0.887 | time: 17.78 minutes\n",
      "Epoch: 231/14999 | Loss: 0.0008 | Episodes: 33 | Win count: 206 | Win rate: 0.888 | time: 17.85 minutes\n",
      "Epoch: 232/14999 | Loss: 0.0006 | Episodes: 36 | Win count: 207 | Win rate: 0.888 | time: 17.92 minutes\n",
      "Epoch: 233/14999 | Loss: 0.0006 | Episodes: 12 | Win count: 208 | Win rate: 0.889 | time: 17.94 minutes\n",
      "Epoch: 234/14999 | Loss: 0.0004 | Episodes: 23 | Win count: 209 | Win rate: 0.889 | time: 18.00 minutes\n",
      "Epoch: 235/14999 | Loss: 0.0016 | Episodes: 78 | Win count: 210 | Win rate: 0.890 | time: 18.16 minutes\n",
      "Epoch: 236/14999 | Loss: 0.0012 | Episodes: 29 | Win count: 211 | Win rate: 0.890 | time: 18.22 minutes\n",
      "Epoch: 237/14999 | Loss: 0.0011 | Episodes: 9 | Win count: 212 | Win rate: 0.891 | time: 18.24 minutes\n",
      "Epoch: 238/14999 | Loss: 0.0008 | Episodes: 38 | Win count: 213 | Win rate: 0.891 | time: 18.32 minutes\n",
      "Epoch: 239/14999 | Loss: 0.0005 | Episodes: 28 | Win count: 214 | Win rate: 0.892 | time: 18.39 minutes\n",
      "Epoch: 240/14999 | Loss: 0.0008 | Episodes: 10 | Win count: 215 | Win rate: 0.892 | time: 18.41 minutes\n",
      "Epoch: 241/14999 | Loss: 0.0008 | Episodes: 14 | Win count: 216 | Win rate: 0.893 | time: 18.44 minutes\n",
      "Epoch: 242/14999 | Loss: 0.0002 | Episodes: 28 | Win count: 217 | Win rate: 0.893 | time: 18.51 minutes\n",
      "Epoch: 243/14999 | Loss: 0.0010 | Episodes: 11 | Win count: 218 | Win rate: 0.893 | time: 18.53 minutes\n",
      "Epoch: 244/14999 | Loss: 0.0003 | Episodes: 18 | Win count: 219 | Win rate: 0.894 | time: 18.58 minutes\n",
      "Epoch: 245/14999 | Loss: 0.0010 | Episodes: 12 | Win count: 220 | Win rate: 0.894 | time: 18.61 minutes\n",
      "Epoch: 246/14999 | Loss: 0.0005 | Episodes: 25 | Win count: 221 | Win rate: 0.895 | time: 18.66 minutes\n",
      "Epoch: 247/14999 | Loss: 0.0005 | Episodes: 6 | Win count: 222 | Win rate: 0.895 | time: 18.68 minutes\n",
      "Epoch: 248/14999 | Loss: 0.0010 | Episodes: 7 | Win count: 223 | Win rate: 0.896 | time: 18.69 minutes\n",
      "Epoch: 249/14999 | Loss: 0.0002 | Episodes: 27 | Win count: 224 | Win rate: 0.896 | time: 18.77 minutes\n",
      "Epoch: 250/14999 | Loss: 0.0007 | Episodes: 22 | Win count: 225 | Win rate: 0.896 | time: 18.81 minutes\n",
      "Epoch: 251/14999 | Loss: 0.0008 | Episodes: 28 | Win count: 226 | Win rate: 0.897 | time: 18.90 minutes\n",
      "Epoch: 252/14999 | Loss: 0.0001 | Episodes: 30 | Win count: 227 | Win rate: 0.897 | time: 19.00 minutes\n",
      "Epoch: 253/14999 | Loss: 0.0005 | Episodes: 32 | Win count: 228 | Win rate: 0.898 | time: 19.10 minutes\n",
      "Epoch: 254/14999 | Loss: 0.0009 | Episodes: 12 | Win count: 229 | Win rate: 0.898 | time: 19.13 minutes\n",
      "Epoch: 255/14999 | Loss: 0.0003 | Episodes: 15 | Win count: 230 | Win rate: 0.898 | time: 19.18 minutes\n",
      "Epoch: 256/14999 | Loss: 0.0006 | Episodes: 2 | Win count: 231 | Win rate: 0.899 | time: 19.19 minutes\n",
      "Epoch: 257/14999 | Loss: 0.0003 | Episodes: 25 | Win count: 232 | Win rate: 0.899 | time: 19.26 minutes\n",
      "Epoch: 258/14999 | Loss: 0.0003 | Episodes: 17 | Win count: 233 | Win rate: 0.900 | time: 19.30 minutes\n",
      "Epoch: 259/14999 | Loss: 0.0005 | Episodes: 16 | Win count: 234 | Win rate: 0.900 | time: 19.34 minutes\n",
      "Epoch: 260/14999 | Loss: 0.0009 | Episodes: 14 | Win count: 235 | Win rate: 0.900 | time: 19.37 minutes\n",
      "Epoch: 261/14999 | Loss: 0.0003 | Episodes: 14 | Win count: 236 | Win rate: 0.901 | time: 19.41 minutes\n",
      "Epoch: 262/14999 | Loss: 0.0001 | Episodes: 17 | Win count: 237 | Win rate: 0.901 | time: 19.46 minutes\n",
      "Epoch: 263/14999 | Loss: 0.0006 | Episodes: 7 | Win count: 238 | Win rate: 0.902 | time: 19.49 minutes\n",
      "Epoch: 264/14999 | Loss: 0.0001 | Episodes: 32 | Win count: 239 | Win rate: 0.902 | time: 19.60 minutes\n",
      "Epoch: 265/14999 | Loss: 0.0003 | Episodes: 17 | Win count: 240 | Win rate: 0.902 | time: 19.64 minutes\n",
      "Epoch: 266/14999 | Loss: 0.0005 | Episodes: 31 | Win count: 241 | Win rate: 0.903 | time: 19.72 minutes\n",
      "Epoch: 267/14999 | Loss: 0.0006 | Episodes: 34 | Win count: 242 | Win rate: 0.903 | time: 19.81 minutes\n",
      "Epoch: 268/14999 | Loss: 0.0009 | Episodes: 4 | Win count: 243 | Win rate: 0.903 | time: 19.82 minutes\n",
      "Epoch: 269/14999 | Loss: 0.0003 | Episodes: 17 | Win count: 244 | Win rate: 0.904 | time: 19.87 minutes\n",
      "Epoch: 270/14999 | Loss: 0.0001 | Episodes: 27 | Win count: 245 | Win rate: 0.904 | time: 19.92 minutes\n",
      "Epoch: 271/14999 | Loss: 0.0000 | Episodes: 26 | Win count: 246 | Win rate: 0.904 | time: 20.00 minutes\n",
      "Epoch: 272/14999 | Loss: 0.0003 | Episodes: 20 | Win count: 247 | Win rate: 0.905 | time: 20.04 minutes\n",
      "Epoch: 273/14999 | Loss: 0.0000 | Episodes: 24 | Win count: 248 | Win rate: 0.905 | time: 20.10 minutes\n",
      "Epoch: 274/14999 | Loss: 0.0005 | Episodes: 26 | Win count: 249 | Win rate: 0.905 | time: 20.18 minutes\n",
      "Epoch: 275/14999 | Loss: 0.0008 | Episodes: 29 | Win count: 250 | Win rate: 0.906 | time: 20.26 minutes\n",
      "Epoch: 276/14999 | Loss: 0.0001 | Episodes: 25 | Win count: 251 | Win rate: 0.906 | time: 20.33 minutes\n",
      "Epoch: 277/14999 | Loss: 0.0003 | Episodes: 23 | Win count: 252 | Win rate: 0.906 | time: 20.38 minutes\n",
      "Epoch: 278/14999 | Loss: 0.0002 | Episodes: 44 | Win count: 253 | Win rate: 0.907 | time: 20.48 minutes\n",
      "Epoch: 279/14999 | Loss: 0.0004 | Episodes: 14 | Win count: 254 | Win rate: 0.907 | time: 20.52 minutes\n",
      "Epoch: 280/14999 | Loss: 0.0003 | Episodes: 34 | Win count: 255 | Win rate: 0.907 | time: 20.60 minutes\n",
      "Epoch: 281/14999 | Loss: 0.0003 | Episodes: 12 | Win count: 256 | Win rate: 0.908 | time: 20.64 minutes\n",
      "Epoch: 282/14999 | Loss: 0.0007 | Episodes: 26 | Win count: 257 | Win rate: 0.908 | time: 20.71 minutes\n",
      "Epoch: 283/14999 | Loss: 0.0003 | Episodes: 11 | Win count: 258 | Win rate: 0.908 | time: 20.74 minutes\n",
      "Epoch: 284/14999 | Loss: 0.0001 | Episodes: 30 | Win count: 259 | Win rate: 0.909 | time: 20.82 minutes\n",
      "Epoch: 285/14999 | Loss: 0.0004 | Episodes: 25 | Win count: 260 | Win rate: 0.909 | time: 20.88 minutes\n",
      "Epoch: 286/14999 | Loss: 0.0005 | Episodes: 34 | Win count: 261 | Win rate: 0.909 | time: 20.95 minutes\n",
      "Epoch: 287/14999 | Loss: 0.0003 | Episodes: 25 | Win count: 262 | Win rate: 0.910 | time: 21.01 minutes\n",
      "Epoch: 288/14999 | Loss: 0.0003 | Episodes: 22 | Win count: 263 | Win rate: 0.910 | time: 21.06 minutes\n",
      "Epoch: 289/14999 | Loss: 0.0000 | Episodes: 26 | Win count: 264 | Win rate: 0.910 | time: 21.12 minutes\n",
      "Epoch: 290/14999 | Loss: 0.0004 | Episodes: 9 | Win count: 265 | Win rate: 0.911 | time: 21.15 minutes\n",
      "Epoch: 291/14999 | Loss: 0.0005 | Episodes: 32 | Win count: 266 | Win rate: 0.911 | time: 21.22 minutes\n",
      "Epoch: 292/14999 | Loss: 0.0005 | Episodes: 24 | Win count: 267 | Win rate: 0.911 | time: 21.27 minutes\n",
      "Epoch: 293/14999 | Loss: 0.0009 | Episodes: 14 | Win count: 268 | Win rate: 0.912 | time: 21.31 minutes\n",
      "Epoch: 294/14999 | Loss: 0.0002 | Episodes: 1 | Win count: 269 | Win rate: 0.912 | time: 21.32 minutes\n",
      "Epoch: 295/14999 | Loss: 0.0000 | Episodes: 24 | Win count: 270 | Win rate: 0.912 | time: 21.37 minutes\n",
      "Epoch: 296/14999 | Loss: 0.0000 | Episodes: 7 | Win count: 271 | Win rate: 0.912 | time: 21.40 minutes\n",
      "Epoch: 297/14999 | Loss: 0.0001 | Episodes: 6 | Win count: 272 | Win rate: 0.913 | time: 21.42 minutes\n",
      "Epoch: 298/14999 | Loss: 0.0003 | Episodes: 35 | Win count: 273 | Win rate: 0.913 | time: 21.51 minutes\n",
      "Epoch: 299/14999 | Loss: 0.0003 | Episodes: 23 | Win count: 274 | Win rate: 0.913 | time: 21.56 minutes\n",
      "Epoch: 300/14999 | Loss: 0.0004 | Episodes: 42 | Win count: 275 | Win rate: 0.914 | time: 21.66 minutes\n",
      "Epoch: 301/14999 | Loss: 0.0002 | Episodes: 7 | Win count: 276 | Win rate: 0.914 | time: 21.67 minutes\n",
      "Epoch: 302/14999 | Loss: 0.0010 | Episodes: 15 | Win count: 277 | Win rate: 0.914 | time: 21.72 minutes\n",
      "Epoch: 303/14999 | Loss: 0.0001 | Episodes: 7 | Win count: 278 | Win rate: 0.914 | time: 21.74 minutes\n",
      "Epoch: 304/14999 | Loss: 0.0002 | Episodes: 13 | Win count: 279 | Win rate: 0.915 | time: 21.78 minutes\n",
      "Epoch: 305/14999 | Loss: 0.0001 | Episodes: 28 | Win count: 280 | Win rate: 0.915 | time: 21.85 minutes\n",
      "Reached 100% win rate at epoch: 305\n",
      "n_epoch: 305, max_mem: 512, data: 32, time: 21.86 minutes\n"
     ]
    },
    {
     "data": {
      "text/plain": [
       "1311.758771"
      ]
     },
     "execution_count": 33,
     "metadata": {},
     "output_type": "execute_result"
    }
   ],
   "source": [
    "model = build_model(maze)\n",
    "qtrain(model, maze, epochs=1000, max_memory=8*maze.size, data_size=32)"
   ]
  },
  {
   "cell_type": "markdown",
   "metadata": {},
   "source": [
    "This cell will check to see if the model passes the completion check. Note: This could take several minutes."
   ]
  },
  {
   "cell_type": "code",
   "execution_count": 34,
   "metadata": {},
   "outputs": [
    {
     "data": {
      "text/plain": [
       "<matplotlib.image.AxesImage at 0x166b3aefb48>"
      ]
     },
     "execution_count": 34,
     "metadata": {},
     "output_type": "execute_result"
    },
    {
     "data": {
      "image/png": "[encoded data removed]",
      "text/plain": [
       "<Figure size 432x288 with 1 Axes>"
      ]
     },
     "metadata": {
      "needs_background": "light"
     },
     "output_type": "display_data"
    }
   ],
   "source": [
    "completion_check(model, qmaze)\n",
    "show(qmaze)"
   ]
  },
  {
   "cell_type": "markdown",
   "metadata": {},
   "source": [
    "This cell will test your model for one game. It will start the pirate at the top-left corner and run play_game. The agent should find a path from the starting position to the target (treasure). The treasure is located in the bottom-right corner."
   ]
  },
  {
   "cell_type": "code",
   "execution_count": 35,
   "metadata": {},
   "outputs": [
    {
     "data": {
      "text/plain": [
       "<matplotlib.image.AxesImage at 0x166b21d1508>"
      ]
     },
     "execution_count": 35,
     "metadata": {},
     "output_type": "execute_result"
    },
    {
     "data": {
      "image/png": "[encoded data removed]",
      "text/plain": [
       "<Figure size 432x288 with 1 Axes>"
      ]
     },
     "metadata": {
      "needs_background": "light"
     },
     "output_type": "display_data"
    }
   ],
   "source": [
    "pirate_start = (0, 0)\n",
    "play_game(model, qmaze, pirate_start)\n",
    "show(qmaze)"
   ]
  },
  {
   "cell_type": "markdown",
   "metadata": {},
   "source": [
    "## Save and Submit Your Work\n",
    "After you have finished creating the code for your notebook, save your work. Make sure that your notebook contains your name in the filename (e.g. Doe_Jane_ProjectTwo.ipynb). This will help your instructor access and grade your work easily. Download a copy of your IPYNB file and submit it to Brightspace. Refer to the Jupyter Notebook in Apporto Tutorial if you need help with these tasks."
   ]
  }
 ],
 "metadata": {
  "kernelspec": {
   "display_name": "Python 3",
   "language": "python",
   "name": "python3"
  },
  "language_info": {
   "codemirror_mode": {
    "name": "ipython",
    "version": 3
   },
   "file_extension": ".py",
   "mimetype": "text/x-python",
   "name": "python",
   "nbconvert_exporter": "python",
   "pygments_lexer": "ipython3",
   "version": "3.7.4"
  }
 },
 "nbformat": 4,
 "nbformat_minor": 2
}
